{
 "cells": [
  {
   "cell_type": "code",
   "execution_count": 101,
   "id": "3f281bad",
   "metadata": {},
   "outputs": [],
   "source": [
    "import pandas as pd\n",
    "import tensorflow as tf\n",
    "import matplotlib.pyplot as plt \n",
    "from tensorflow.keras import models, layers\n",
    "from tensorflow import keras\n",
    "from sklearn.model_selection import train_test_split\n",
    "from sklearn.preprocessing import StandardScaler\n",
    "from sklearn.metrics import classification_report, confusion_matrix\n",
    "import matplotlib.pyplot as plt\n",
    "import seaborn as sns"
   ]
  },
  {
   "cell_type": "code",
   "execution_count": 2,
   "id": "1f417d32",
   "metadata": {},
   "outputs": [],
   "source": [
    "df = pd.read_csv('Churn_Modelling.csv')\n"
   ]
  },
  {
   "cell_type": "code",
   "execution_count": 13,
   "id": "60995349",
   "metadata": {},
   "outputs": [],
   "source": [
    "rows, cols = df.shape"
   ]
  },
  {
   "cell_type": "code",
   "execution_count": 16,
   "id": "f330bdc9",
   "metadata": {},
   "outputs": [
    {
     "name": "stdout",
     "output_type": "stream",
     "text": [
      "Index(['RowNumber', 'CustomerId', 'Surname', 'CreditScore', 'Geography',\n",
      "       'Gender', 'Age', 'Tenure', 'Balance', 'NumOfProducts', 'HasCrCard',\n",
      "       'IsActiveMember', 'EstimatedSalary', 'Exited'],\n",
      "      dtype='object')\n"
     ]
    }
   ],
   "source": [
    "print(df.columns)"
   ]
  },
  {
   "cell_type": "code",
   "execution_count": 17,
   "id": "5dd5c79a",
   "metadata": {},
   "outputs": [
    {
     "data": {
      "text/html": [
       "<div>\n",
       "<style scoped>\n",
       "    .dataframe tbody tr th:only-of-type {\n",
       "        vertical-align: middle;\n",
       "    }\n",
       "\n",
       "    .dataframe tbody tr th {\n",
       "        vertical-align: top;\n",
       "    }\n",
       "\n",
       "    .dataframe thead th {\n",
       "        text-align: right;\n",
       "    }\n",
       "</style>\n",
       "<table border=\"1\" class=\"dataframe\">\n",
       "  <thead>\n",
       "    <tr style=\"text-align: right;\">\n",
       "      <th></th>\n",
       "      <th>RowNumber</th>\n",
       "      <th>CustomerId</th>\n",
       "      <th>Surname</th>\n",
       "      <th>CreditScore</th>\n",
       "      <th>Geography</th>\n",
       "      <th>Gender</th>\n",
       "      <th>Age</th>\n",
       "      <th>Tenure</th>\n",
       "      <th>Balance</th>\n",
       "      <th>NumOfProducts</th>\n",
       "      <th>HasCrCard</th>\n",
       "      <th>IsActiveMember</th>\n",
       "      <th>EstimatedSalary</th>\n",
       "      <th>Exited</th>\n",
       "    </tr>\n",
       "  </thead>\n",
       "  <tbody>\n",
       "    <tr>\n",
       "      <th>0</th>\n",
       "      <td>1</td>\n",
       "      <td>15634602</td>\n",
       "      <td>Hargrave</td>\n",
       "      <td>619</td>\n",
       "      <td>France</td>\n",
       "      <td>Female</td>\n",
       "      <td>42</td>\n",
       "      <td>2</td>\n",
       "      <td>0.00</td>\n",
       "      <td>1</td>\n",
       "      <td>1</td>\n",
       "      <td>1</td>\n",
       "      <td>101348.88</td>\n",
       "      <td>1</td>\n",
       "    </tr>\n",
       "    <tr>\n",
       "      <th>1</th>\n",
       "      <td>2</td>\n",
       "      <td>15647311</td>\n",
       "      <td>Hill</td>\n",
       "      <td>608</td>\n",
       "      <td>Spain</td>\n",
       "      <td>Female</td>\n",
       "      <td>41</td>\n",
       "      <td>1</td>\n",
       "      <td>83807.86</td>\n",
       "      <td>1</td>\n",
       "      <td>0</td>\n",
       "      <td>1</td>\n",
       "      <td>112542.58</td>\n",
       "      <td>0</td>\n",
       "    </tr>\n",
       "    <tr>\n",
       "      <th>2</th>\n",
       "      <td>3</td>\n",
       "      <td>15619304</td>\n",
       "      <td>Onio</td>\n",
       "      <td>502</td>\n",
       "      <td>France</td>\n",
       "      <td>Female</td>\n",
       "      <td>42</td>\n",
       "      <td>8</td>\n",
       "      <td>159660.80</td>\n",
       "      <td>3</td>\n",
       "      <td>1</td>\n",
       "      <td>0</td>\n",
       "      <td>113931.57</td>\n",
       "      <td>1</td>\n",
       "    </tr>\n",
       "    <tr>\n",
       "      <th>3</th>\n",
       "      <td>4</td>\n",
       "      <td>15701354</td>\n",
       "      <td>Boni</td>\n",
       "      <td>699</td>\n",
       "      <td>France</td>\n",
       "      <td>Female</td>\n",
       "      <td>39</td>\n",
       "      <td>1</td>\n",
       "      <td>0.00</td>\n",
       "      <td>2</td>\n",
       "      <td>0</td>\n",
       "      <td>0</td>\n",
       "      <td>93826.63</td>\n",
       "      <td>0</td>\n",
       "    </tr>\n",
       "    <tr>\n",
       "      <th>4</th>\n",
       "      <td>5</td>\n",
       "      <td>15737888</td>\n",
       "      <td>Mitchell</td>\n",
       "      <td>850</td>\n",
       "      <td>Spain</td>\n",
       "      <td>Female</td>\n",
       "      <td>43</td>\n",
       "      <td>2</td>\n",
       "      <td>125510.82</td>\n",
       "      <td>1</td>\n",
       "      <td>1</td>\n",
       "      <td>1</td>\n",
       "      <td>79084.10</td>\n",
       "      <td>0</td>\n",
       "    </tr>\n",
       "  </tbody>\n",
       "</table>\n",
       "</div>"
      ],
      "text/plain": [
       "   RowNumber  CustomerId   Surname  CreditScore Geography  Gender  Age  \\\n",
       "0          1    15634602  Hargrave          619    France  Female   42   \n",
       "1          2    15647311      Hill          608     Spain  Female   41   \n",
       "2          3    15619304      Onio          502    France  Female   42   \n",
       "3          4    15701354      Boni          699    France  Female   39   \n",
       "4          5    15737888  Mitchell          850     Spain  Female   43   \n",
       "\n",
       "   Tenure    Balance  NumOfProducts  HasCrCard  IsActiveMember  \\\n",
       "0       2       0.00              1          1               1   \n",
       "1       1   83807.86              1          0               1   \n",
       "2       8  159660.80              3          1               0   \n",
       "3       1       0.00              2          0               0   \n",
       "4       2  125510.82              1          1               1   \n",
       "\n",
       "   EstimatedSalary  Exited  \n",
       "0        101348.88       1  \n",
       "1        112542.58       0  \n",
       "2        113931.57       1  \n",
       "3         93826.63       0  \n",
       "4         79084.10       0  "
      ]
     },
     "execution_count": 17,
     "metadata": {},
     "output_type": "execute_result"
    }
   ],
   "source": [
    "df.head()"
   ]
  },
  {
   "cell_type": "code",
   "execution_count": 25,
   "id": "f162b8c4",
   "metadata": {},
   "outputs": [],
   "source": [
    "df_dropped = df.drop(['RowNumber', 'CustomerId', 'Surname'], axis=1)"
   ]
  },
  {
   "cell_type": "code",
   "execution_count": 35,
   "id": "53c61f9f",
   "metadata": {},
   "outputs": [],
   "source": [
    "value_mapping = {'Female': '1', 'Male': '0'}\n"
   ]
  },
  {
   "cell_type": "code",
   "execution_count": 42,
   "id": "a7ecdec4",
   "metadata": {},
   "outputs": [],
   "source": [
    "df_dropped[\"Gender\"] = df_dropped[\"Gender\"].replace(value_mapping)"
   ]
  },
  {
   "cell_type": "code",
   "execution_count": 47,
   "id": "8c308002",
   "metadata": {},
   "outputs": [],
   "source": [
    "columns = df_dropped.columns.to_list()\n"
   ]
  },
  {
   "cell_type": "code",
   "execution_count": 52,
   "id": "2d11d21b",
   "metadata": {},
   "outputs": [
    {
     "name": "stdout",
     "output_type": "stream",
     "text": [
      "CreditScore:  int64\n",
      "Geography:  object\n",
      "Gender:  object\n",
      "Age:  int64\n",
      "Tenure:  int64\n",
      "Balance:  float64\n",
      "NumOfProducts:  int64\n",
      "HasCrCard:  int64\n",
      "IsActiveMember:  int64\n",
      "EstimatedSalary:  float64\n",
      "Exited:  int64\n"
     ]
    }
   ],
   "source": [
    "for col_name in columns:\n",
    "    print(col_name + \": \", df_dropped[col_name].dtype)"
   ]
  },
  {
   "cell_type": "code",
   "execution_count": 54,
   "id": "ff0ff7a6",
   "metadata": {},
   "outputs": [],
   "source": [
    "df_dropped[\"Gender\"] = df_dropped[\"Gender\"].astype(int)"
   ]
  },
  {
   "cell_type": "code",
   "execution_count": 55,
   "id": "b8a7c72f",
   "metadata": {},
   "outputs": [
    {
     "name": "stdout",
     "output_type": "stream",
     "text": [
      "CreditScore:  int64\n",
      "Geography:  object\n",
      "Gender:  int64\n",
      "Age:  int64\n",
      "Tenure:  int64\n",
      "Balance:  float64\n",
      "NumOfProducts:  int64\n",
      "HasCrCard:  int64\n",
      "IsActiveMember:  int64\n",
      "EstimatedSalary:  float64\n",
      "Exited:  int64\n"
     ]
    }
   ],
   "source": [
    "for col_name in columns:\n",
    "    print(col_name + \": \", df_dropped[col_name].dtype)"
   ]
  },
  {
   "cell_type": "code",
   "execution_count": 80,
   "id": "c46d3527",
   "metadata": {},
   "outputs": [
    {
     "name": "stdout",
     "output_type": "stream",
     "text": [
      "['CreditScore', 'Gender', 'Age', 'Tenure', 'Balance', 'NumOfProducts', 'HasCrCard', 'IsActiveMember', 'EstimatedSalary', 'Exited', 'Geography_France', 'Geography_Germany', 'Geography_Spain']\n"
     ]
    }
   ],
   "source": [
    "df_dummies = pd.get_dummies(df_dropped, columns=['Geography'], prefix=['Geography'])\n",
    "columns = df_dummies.columns.to_list()\n",
    "print(columns)\n",
    "\n",
    "\n"
   ]
  },
  {
   "cell_type": "code",
   "execution_count": 88,
   "id": "62dac802",
   "metadata": {},
   "outputs": [],
   "source": [
    "dict_transl = {True:1, False:0}\n",
    "\n",
    "df_dummies[\"Geography_France\"] = df_dummies[\"Geography_France\"].replace(dict_transl)\n",
    "df_dummies[\"Geography_Germany\"] = df_dummies[\"Geography_Germany\"].replace(dict_transl)\n",
    "df_dummies[\"Geography_Spain\"] = df_dummies[\"Geography_Spain\"].replace(dict_transl)\n"
   ]
  },
  {
   "cell_type": "code",
   "execution_count": 92,
   "id": "5d6abff9",
   "metadata": {},
   "outputs": [
    {
     "data": {
      "text/plain": [
       "['CreditScore',\n",
       " 'Gender',\n",
       " 'Age',\n",
       " 'Tenure',\n",
       " 'Balance',\n",
       " 'NumOfProducts',\n",
       " 'HasCrCard',\n",
       " 'IsActiveMember',\n",
       " 'EstimatedSalary',\n",
       " 'Exited',\n",
       " 'Geography_France',\n",
       " 'Geography_Germany',\n",
       " 'Geography_Spain']"
      ]
     },
     "execution_count": 92,
     "metadata": {},
     "output_type": "execute_result"
    }
   ],
   "source": [
    "df_dummies.columns.to_list()"
   ]
  },
  {
   "cell_type": "code",
   "execution_count": 94,
   "id": "720298b7",
   "metadata": {},
   "outputs": [],
   "source": [
    "X = df_dummies[['CreditScore', 'Gender', 'Age', 'Tenure', 'Balance', 'NumOfProducts',\n",
    "        'HasCrCard', 'IsActiveMember', 'EstimatedSalary',\n",
    "        'Geography_France', 'Geography_Germany', 'Geography_Spain']]\n",
    "y = df_dummies['Exited']"
   ]
  },
  {
   "cell_type": "code",
   "execution_count": 97,
   "id": "cdfc3072",
   "metadata": {},
   "outputs": [],
   "source": [
    "X_train, X_test, y_train, y_test = train_test_split(X, y, test_size=0.2, random_state=42)"
   ]
  },
  {
   "cell_type": "code",
   "execution_count": 98,
   "id": "4df2bfce",
   "metadata": {},
   "outputs": [],
   "source": [
    "scaler = StandardScaler()\n",
    "X_train = scaler.fit_transform(X_train)\n",
    "X_test = scaler.transform(X_test)"
   ]
  },
  {
   "cell_type": "code",
   "execution_count": 99,
   "id": "817e4955",
   "metadata": {},
   "outputs": [
    {
     "name": "stdout",
     "output_type": "stream",
     "text": [
      "Epoch 1/10\n",
      "250/250 [==============================] - 1s 2ms/step - loss: 0.4461 - accuracy: 0.8054 - val_loss: 0.3882 - val_accuracy: 0.8325\n",
      "Epoch 2/10\n",
      "250/250 [==============================] - 0s 395us/step - loss: 0.3762 - accuracy: 0.8434 - val_loss: 0.3540 - val_accuracy: 0.8565\n",
      "Epoch 3/10\n",
      "250/250 [==============================] - 0s 390us/step - loss: 0.3516 - accuracy: 0.8551 - val_loss: 0.3476 - val_accuracy: 0.8560\n",
      "Epoch 4/10\n",
      "250/250 [==============================] - 0s 390us/step - loss: 0.3442 - accuracy: 0.8568 - val_loss: 0.3497 - val_accuracy: 0.8535\n",
      "Epoch 5/10\n",
      "250/250 [==============================] - 0s 395us/step - loss: 0.3392 - accuracy: 0.8593 - val_loss: 0.3493 - val_accuracy: 0.8580\n",
      "Epoch 6/10\n",
      "250/250 [==============================] - 0s 415us/step - loss: 0.3358 - accuracy: 0.8602 - val_loss: 0.3445 - val_accuracy: 0.8585\n",
      "Epoch 7/10\n",
      "250/250 [==============================] - 0s 406us/step - loss: 0.3330 - accuracy: 0.8627 - val_loss: 0.3420 - val_accuracy: 0.8595\n",
      "Epoch 8/10\n",
      "250/250 [==============================] - 0s 408us/step - loss: 0.3305 - accuracy: 0.8625 - val_loss: 0.3465 - val_accuracy: 0.8570\n",
      "Epoch 9/10\n",
      "250/250 [==============================] - 0s 411us/step - loss: 0.3300 - accuracy: 0.8630 - val_loss: 0.3418 - val_accuracy: 0.8610\n",
      "Epoch 10/10\n",
      "250/250 [==============================] - 0s 400us/step - loss: 0.3261 - accuracy: 0.8624 - val_loss: 0.3433 - val_accuracy: 0.8610\n",
      "63/63 [==============================] - 0s 280us/step - loss: 0.3433 - accuracy: 0.8610\n",
      "Test Loss: 0.3433, Test Accuracy: 86.10%\n"
     ]
    }
   ],
   "source": [
    "# Build a simple neural network model\n",
    "model = keras.Sequential([\n",
    "    keras.layers.Dense(64, activation='relu', input_shape=(X_train.shape[1],)),\n",
    "    keras.layers.Dense(32, activation='relu'),\n",
    "    keras.layers.Dense(1, activation='sigmoid')  # Output layer with sigmoid activation for binary classification\n",
    "])\n",
    "\n",
    "# Compile the model\n",
    "model.compile(optimizer='adam', loss='binary_crossentropy', metrics=['accuracy'])\n",
    "\n",
    "# Train the model\n",
    "model.fit(X_train, y_train, epochs=10, batch_size=32, validation_data=(X_test, y_test))\n",
    "\n",
    "# Evaluate the model on the test data\n",
    "loss, accuracy = model.evaluate(X_test, y_test)\n",
    "print(f\"Test Loss: {loss:.4f}, Test Accuracy: {accuracy*100:.2f}%\")"
   ]
  },
  {
   "cell_type": "raw",
   "id": "e32940a4",
   "metadata": {},
   "source": [
    "y_pred = (model.predict(X_test) > 0.5).astype(\"int32\")\n",
    "\n",
    "# Evaluate the model using classification metrics\n",
    "print(\"Classification Report:\\n\", classification_report(y_test, y_pred))\n",
    "print(\"Confusion Matrix:\\n\", confusion_matrix(y_test, y_pred))\n",
    "\n",
    "# Visualize the confusion matrix\n",
    "sns.heatmap(confusion_matrix(y_test, y_pred), annot=True, fmt='d', cmap='Blues')\n",
    "plt.xlabel('Predicted Labels')\n",
    "plt.ylabel('True Labels')\n",
    "plt.title('Confusion Matrix')\n",
    "plt.show()\n",
    "\n",
    "# Plot ROC curve and calculate AUC\n",
    "from sklearn.metrics import roc_curve, auc\n",
    "\n",
    "fpr, tpr, thresholds = roc_curve(y_test, model.predict(X_test))\n",
    "roc_auc = auc(fpr, tpr)\n",
    "\n",
    "plt.figure()\n",
    "plt.plot(fpr, tpr, color='darkorange', lw=2, label=f'ROC curve (AUC = {roc_auc:.2f})')\n",
    "plt.plot([0, 1], [0, 1], color='navy', lw=2, linestyle='--')\n",
    "plt.xlim([0.0, 1.0])\n",
    "plt.ylim([0.0, 1.05])\n",
    "plt.xlabel('False Positive Rate')\n",
    "plt.ylabel('True Positive Rate')\n",
    "plt.title('Receiver Operating Characteristic (ROC) Curve')\n",
    "plt.legend(loc='lower right')\n",
    "plt.show()"
   ]
  },
  {
   "cell_type": "code",
   "execution_count": 2,
   "id": "94827b0a",
   "metadata": {},
   "outputs": [],
   "source": [
    "def make_predictions(data_array, model):\n",
    "    # Create a DataFrame from the input data_array with appropriate column names\n",
    "    columns = [\n",
    "        'RowNumber', 'CustomerId', 'Surname', 'CreditScore', 'Geography',\n",
    "        'Gender', 'Age', 'Tenure', 'Balance', 'NumOfProducts', 'HasCrCard',\n",
    "        'IsActiveMember', 'EstimatedSalary'\n",
    "    ]\n",
    "    \n",
    "    df = pd.DataFrame([data_array], columns=columns)\n",
    "    \n",
    "    # Perform any necessary data preprocessing to match the model's input format\n",
    "    # In this case, we'll drop 'RowNumber', 'CustomerId', 'Surname' and one-hot encode 'Geography'\n",
    "    df = df.drop(['RowNumber', 'CustomerId', 'Surname'], axis=1)\n",
    "    df = pd.get_dummies(df, columns=['Geography'], drop_first=True)\n",
    "    \n",
    "    # Make the prediction\n",
    "    prediction = (model.predict(df) > 0.5).astype(\"int32\")\n",
    "    \n",
    "    if prediction[0] == 1:\n",
    "        print(\"The model predicts that the customer will churn.\")\n",
    "    else:\n",
    "        print(\"The model predicts that the customer will not churn.\")\n",
    "    "
   ]
  },
  {
   "cell_type": "code",
   "execution_count": null,
   "id": "67336f04",
   "metadata": {},
   "outputs": [],
   "source": []
  }
 ],
 "metadata": {
  "kernelspec": {
   "display_name": "Python 3 (ipykernel)",
   "language": "python",
   "name": "python3"
  },
  "language_info": {
   "codemirror_mode": {
    "name": "ipython",
    "version": 3
   },
   "file_extension": ".py",
   "mimetype": "text/x-python",
   "name": "python",
   "nbconvert_exporter": "python",
   "pygments_lexer": "ipython3",
   "version": "3.11.5"
  }
 },
 "nbformat": 4,
 "nbformat_minor": 5
}
